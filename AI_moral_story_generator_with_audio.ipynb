{
  "nbformat": 4,
  "nbformat_minor": 0,
  "metadata": {
    "colab": {
      "provenance": [],
      "authorship_tag": "ABX9TyMBXmatnyIiUdsFfwRBRu4P",
      "include_colab_link": true
    },
    "kernelspec": {
      "name": "python3",
      "display_name": "Python 3"
    },
    "language_info": {
      "name": "python"
    }
  },
  "cells": [
    {
      "cell_type": "markdown",
      "metadata": {
        "id": "view-in-github",
        "colab_type": "text"
      },
      "source": [
        "<a href=\"https://colab.research.google.com/github/SNEHABORADE25/AI-Moral-story-generator-with-audio/blob/main/AI_moral_story_generator_with_audio.ipynb\" target=\"_parent\"><img src=\"https://colab.research.google.com/assets/colab-badge.svg\" alt=\"Open In Colab\"/></a>"
      ]
    },
    {
      "cell_type": "code",
      "source": [
        "pip install gtts"
      ],
      "metadata": {
        "colab": {
          "base_uri": "https://localhost:8080/"
        },
        "id": "8chMcNI4LooR",
        "outputId": "be0b8feb-ab50-476c-b6cf-3998db430de8"
      },
      "execution_count": null,
      "outputs": [
        {
          "output_type": "stream",
          "name": "stdout",
          "text": [
            "Collecting gtts\n",
            "  Downloading gTTS-2.5.4-py3-none-any.whl.metadata (4.1 kB)\n",
            "Requirement already satisfied: requests<3,>=2.27 in /usr/local/lib/python3.11/dist-packages (from gtts) (2.32.3)\n",
            "Collecting click<8.2,>=7.1 (from gtts)\n",
            "  Downloading click-8.1.8-py3-none-any.whl.metadata (2.3 kB)\n",
            "Requirement already satisfied: charset-normalizer<4,>=2 in /usr/local/lib/python3.11/dist-packages (from requests<3,>=2.27->gtts) (3.4.2)\n",
            "Requirement already satisfied: idna<4,>=2.5 in /usr/local/lib/python3.11/dist-packages (from requests<3,>=2.27->gtts) (3.10)\n",
            "Requirement already satisfied: urllib3<3,>=1.21.1 in /usr/local/lib/python3.11/dist-packages (from requests<3,>=2.27->gtts) (2.5.0)\n",
            "Requirement already satisfied: certifi>=2017.4.17 in /usr/local/lib/python3.11/dist-packages (from requests<3,>=2.27->gtts) (2025.8.3)\n",
            "Downloading gTTS-2.5.4-py3-none-any.whl (29 kB)\n",
            "Downloading click-8.1.8-py3-none-any.whl (98 kB)\n",
            "\u001b[2K   \u001b[90m━━━━━━━━━━━━━━━━━━━━━━━━━━━━━━━━━━━━━━━━\u001b[0m \u001b[32m98.2/98.2 kB\u001b[0m \u001b[31m4.0 MB/s\u001b[0m eta \u001b[36m0:00:00\u001b[0m\n",
            "\u001b[?25hInstalling collected packages: click, gtts\n",
            "  Attempting uninstall: click\n",
            "    Found existing installation: click 8.2.1\n",
            "    Uninstalling click-8.2.1:\n",
            "      Successfully uninstalled click-8.2.1\n",
            "Successfully installed click-8.1.8 gtts-2.5.4\n"
          ]
        }
      ]
    },
    {
      "cell_type": "code",
      "source": [
        "import requests\n",
        "import json\n",
        "from gtts import gTTS\n",
        "import gradio as gr\n",
        "import tempfile\n",
        "\n",
        "# Replace with your actual API key\n",
        "OPENROUTER_API_KEY = \"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\"\n",
        "\n",
        "def generate_story_with_audio(language_choice, title):\n",
        "    # Language settings\n",
        "    lang_map = {\n",
        "        \"Hindi\": (\"हिन्दी\", \"hi\", f\"'{title}' शीर्षक पर एक छोटी और भावनात्मक कहानी बनाएं हिन्दी में, जो बच्चों के लिए हो, और जिसमें एक नैतिक शिक्षा हो।\"),\n",
        "        \"Marathi\": (\"मराठी\", \"mr\", f\"'{title}' या शीर्षकावर एक छोटी आणि भावनिक कथा तयार करा मराठीत, जी मुलांसाठी असेल आणि ज्यामध्ये एक नैतिक शिकवण असेल.\")\n",
        "    }\n",
        "\n",
        "    if language_choice not in lang_map:\n",
        "        return \"Invalid language\", None\n",
        "\n",
        "    lang_name, lang_code, prompt = lang_map[language_choice]\n",
        "\n",
        "    # Generate story from OpenRouter\n",
        "    response = requests.post(\n",
        "        url=\"https://openrouter.ai/api/v1/chat/completions\",\n",
        "        headers={\n",
        "            \"Authorization\": f\"Bearer {OPENROUTER_API_KEY}\",\n",
        "            \"Content-Type\": \"application/json\",\n",
        "        },\n",
        "        data=json.dumps({\n",
        "            \"model\": \"deepseek/deepseek-r1:free\",\n",
        "            \"messages\": [{\"role\": \"user\", \"content\": prompt}]\n",
        "        })\n",
        "    )\n",
        "\n",
        "    if response.status_code != 200:\n",
        "        return f\"Error: {response.status_code}\", None\n",
        "\n",
        "    story = response.json()[\"choices\"][0][\"message\"][\"content\"]\n",
        "\n",
        "    # Convert story to speech\n",
        "    tmp_file = tempfile.NamedTemporaryFile(delete=False, suffix=\".mp3\")\n",
        "    gTTS(text=story, lang=lang_code).save(tmp_file.name)\n",
        "\n",
        "    return story, tmp_file.name\n",
        "\n",
        "\n",
        "# Gradio UI\n",
        "with gr.Blocks() as demo:\n",
        "    gr.Markdown(\"## 📖 Short Moral Story Generator with Audio\")\n",
        "\n",
        "    language = gr.Dropdown(choices=[\"Hindi\", \"Marathi\"], label=\"Choose Language\", value=\"Hindi\")\n",
        "    title_input = gr.Textbox(label=\"Story Title\", placeholder=\"Enter your story title here...\")\n",
        "    generate_btn = gr.Button(\"Generate Story\")\n",
        "\n",
        "    story_output = gr.Textbox(label=\"Generated Story\", lines=10)\n",
        "    audio_output = gr.Audio(label=\"Story Audio\", type=\"filepath\")\n",
        "\n",
        "    generate_btn.click(\n",
        "        fn=generate_story_with_audio,\n",
        "        inputs=[language, title_input],\n",
        "        outputs=[story_output, audio_output]\n",
        "    )\n",
        "\n",
        "demo.launch()"
      ],
      "metadata": {
        "colab": {
          "base_uri": "https://localhost:8080/",
          "height": 646
        },
        "id": "UuZOh2nSLwTb",
        "outputId": "4b92b4bd-7072-4d4f-969f-222bc3420b01"
      },
      "execution_count": null,
      "outputs": [
        {
          "output_type": "stream",
          "name": "stdout",
          "text": [
            "It looks like you are running Gradio on a hosted Jupyter notebook, which requires `share=True`. Automatically setting `share=True` (you can turn this off by setting `share=False` in `launch()` explicitly).\n",
            "\n",
            "Colab notebook detected. To show errors in colab notebook, set debug=True in launch()\n",
            "* Running on public URL: https://a3f04535d6bbebde02.gradio.live\n",
            "\n",
            "This share link expires in 1 week. For free permanent hosting and GPU upgrades, run `gradio deploy` from the terminal in the working directory to deploy to Hugging Face Spaces (https://huggingface.co/spaces)\n"
          ]
        },
        {
          "output_type": "display_data",
          "data": {
            "text/plain": [
              "<IPython.core.display.HTML object>"
            ],
            "text/html": [
              "<div><iframe src=\"https://a3f04535d6bbebde02.gradio.live\" width=\"100%\" height=\"500\" allow=\"autoplay; camera; microphone; clipboard-read; clipboard-write;\" frameborder=\"0\" allowfullscreen></iframe></div>"
            ]
          },
          "metadata": {}
        },
        {
          "output_type": "execute_result",
          "data": {
            "text/plain": []
          },
          "metadata": {},
          "execution_count": 3
        }
      ]
    }
  ]
}